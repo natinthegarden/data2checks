{
 "cells": [
  {
   "cell_type": "code",
   "execution_count": 2,
   "id": "3da82161",
   "metadata": {},
   "outputs": [],
   "source": [
    "import pandas as pd"
   ]
  },
  {
   "cell_type": "code",
   "execution_count": 11,
   "id": "de6ef581",
   "metadata": {},
   "outputs": [
    {
     "data": {
      "text/html": [
       "<div>\n",
       "<style scoped>\n",
       "    .dataframe tbody tr th:only-of-type {\n",
       "        vertical-align: middle;\n",
       "    }\n",
       "\n",
       "    .dataframe tbody tr th {\n",
       "        vertical-align: top;\n",
       "    }\n",
       "\n",
       "    .dataframe thead th {\n",
       "        text-align: right;\n",
       "    }\n",
       "</style>\n",
       "<table border=\"1\" class=\"dataframe\">\n",
       "  <thead>\n",
       "    <tr style=\"text-align: right;\">\n",
       "      <th></th>\n",
       "      <th>0</th>\n",
       "      <th>Num_episode</th>\n",
       "      <th>Title</th>\n",
       "      <th>Type</th>\n",
       "      <th>Year_launch</th>\n",
       "      <th>Rate</th>\n",
       "      <th>Votes</th>\n",
       "      <th>Saga</th>\n",
       "      <th>Airdate</th>\n",
       "    </tr>\n",
       "  </thead>\n",
       "  <tbody>\n",
       "    <tr>\n",
       "      <th>0</th>\n",
       "      <td>1</td>\n",
       "      <td>1</td>\n",
       "      <td>Homecoming</td>\n",
       "      <td>Mixed Canon/Filler</td>\n",
       "      <td>2007</td>\n",
       "      <td>8.2</td>\n",
       "      <td>728</td>\n",
       "      <td>s1 Kazekage Rescue</td>\n",
       "      <td>2007-02-15</td>\n",
       "    </tr>\n",
       "    <tr>\n",
       "      <th>1</th>\n",
       "      <td>2</td>\n",
       "      <td>2</td>\n",
       "      <td>The Akatsuki Makes Its Move</td>\n",
       "      <td>Mixed Canon/Filler</td>\n",
       "      <td>2007</td>\n",
       "      <td>8.0</td>\n",
       "      <td>575</td>\n",
       "      <td>s1 Kazekage Rescue</td>\n",
       "      <td>2007-02-15</td>\n",
       "    </tr>\n",
       "    <tr>\n",
       "      <th>2</th>\n",
       "      <td>3</td>\n",
       "      <td>3</td>\n",
       "      <td>The Results of Training</td>\n",
       "      <td>Mixed Canon/Filler</td>\n",
       "      <td>2007</td>\n",
       "      <td>8.0</td>\n",
       "      <td>508</td>\n",
       "      <td>s1 Kazekage Rescue</td>\n",
       "      <td>2007-02-22</td>\n",
       "    </tr>\n",
       "    <tr>\n",
       "      <th>3</th>\n",
       "      <td>4</td>\n",
       "      <td>4</td>\n",
       "      <td>The Jinchuriki of the Sand</td>\n",
       "      <td>Mixed Canon/Filler</td>\n",
       "      <td>2007</td>\n",
       "      <td>8.2</td>\n",
       "      <td>517</td>\n",
       "      <td>s1 Kazekage Rescue</td>\n",
       "      <td>2007-03-01</td>\n",
       "    </tr>\n",
       "    <tr>\n",
       "      <th>4</th>\n",
       "      <td>5</td>\n",
       "      <td>5</td>\n",
       "      <td>The Kazekage Stands Tall</td>\n",
       "      <td>Mixed Canon/Filler</td>\n",
       "      <td>2007</td>\n",
       "      <td>8.2</td>\n",
       "      <td>486</td>\n",
       "      <td>s1 Kazekage Rescue</td>\n",
       "      <td>2007-03-15</td>\n",
       "    </tr>\n",
       "  </tbody>\n",
       "</table>\n",
       "</div>"
      ],
      "text/plain": [
       "   0  Num_episode                        Title                Type  \\\n",
       "0  1            1                   Homecoming  Mixed Canon/Filler   \n",
       "1  2            2  The Akatsuki Makes Its Move  Mixed Canon/Filler   \n",
       "2  3            3      The Results of Training  Mixed Canon/Filler   \n",
       "3  4            4   The Jinchuriki of the Sand  Mixed Canon/Filler   \n",
       "4  5            5     The Kazekage Stands Tall  Mixed Canon/Filler   \n",
       "\n",
       "   Year_launch  Rate  Votes                Saga     Airdate  \n",
       "0         2007   8.2    728  s1 Kazekage Rescue  2007-02-15  \n",
       "1         2007   8.0    575  s1 Kazekage Rescue  2007-02-15  \n",
       "2         2007   8.0    508  s1 Kazekage Rescue  2007-02-22  \n",
       "3         2007   8.2    517  s1 Kazekage Rescue  2007-03-01  \n",
       "4         2007   8.2    486  s1 Kazekage Rescue  2007-03-15  "
      ]
     },
     "execution_count": 11,
     "metadata": {},
     "output_type": "execute_result"
    }
   ],
   "source": [
    "naruto_df = pd.read_csv('naruto.csv')\n",
    "\n",
    "naruto_df.head()"
   ]
  },
  {
   "cell_type": "code",
   "execution_count": 5,
   "id": "c3c1f6d8",
   "metadata": {},
   "outputs": [
    {
     "data": {
      "text/plain": [
       "'/Users/natalyanaser/Desktop/coding/data2checks'"
      ]
     },
     "execution_count": 5,
     "metadata": {},
     "output_type": "execute_result"
    }
   ],
   "source": [
    "pwd"
   ]
  },
  {
   "cell_type": "code",
   "execution_count": 4,
   "id": "c69be708",
   "metadata": {},
   "outputs": [],
   "source": [
    "import matplotlib.pyplot as plt\n"
   ]
  },
  {
   "cell_type": "code",
   "execution_count": 8,
   "id": "dd8dddd2",
   "metadata": {},
   "outputs": [],
   "source": [
    "\n",
    "plt.rcParams[\"figure.figsize\"] = [7.00, 3.50]\n",
    "plt.rcParams[\"figure.autolayout\"] = True\n",
    "columns = [\"Title\", \"Type\"]\n",
    "plt.show()\n",
    "\n"
   ]
  }
 ],
 "metadata": {
  "kernelspec": {
   "display_name": "Python 3 (ipykernel)",
   "language": "python",
   "name": "python3"
  },
  "language_info": {
   "codemirror_mode": {
    "name": "ipython",
    "version": 3
   },
   "file_extension": ".py",
   "mimetype": "text/x-python",
   "name": "python",
   "nbconvert_exporter": "python",
   "pygments_lexer": "ipython3",
   "version": "3.11.1"
  }
 },
 "nbformat": 4,
 "nbformat_minor": 5
}
